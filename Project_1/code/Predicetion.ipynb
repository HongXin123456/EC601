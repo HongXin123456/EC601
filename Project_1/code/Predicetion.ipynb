{
 "cells": [
  {
   "cell_type": "code",
   "execution_count": 2,
   "metadata": {
    "collapsed": false,
    "jupyter": {
     "outputs_hidden": false
    },
    "pycharm": {
     "is_executing": false,
     "name": "#%%\n"
    }
   },
   "outputs": [],
   "source": [
    "import numpy as np\n",
    "import csv\n",
    "from sklearn.model_selection import train_test_split\n",
    "from random import shuffle\n",
    "from sklearn.feature_extraction.text import TfidfVectorizer\n",
    "from sklearn import naive_bayes\n",
    "import pandas as pd\n",
    "from sklearn import linear_model\n",
    "from sklearn import ensemble\n",
    "from sklearn.neighbors import KNeighborsClassifier\n",
    "from sklearn.metrics import mean_squared_error, confusion_matrix\n",
    "import seaborn as sns\n",
    "import matplotlib.pyplot as plt\n",
    "from sklearn import svm\n",
    "import glob\n",
    "from sklearn import tree\n",
    "\n",
    "# cleaning data-----------------------------------\n",
    "def load_data(filename):\n",
    "    print(filename)\n",
    "\n",
    "    with open(filename) as file:\n",
    "        reader = csv.reader(file)\n",
    "        data = []\n",
    "        for row in reader:\n",
    "            entry = []\n",
    "            for attr in row:\n",
    "                entry.append(attr)\n",
    "            data.append(entry)\n",
    "        r_data = remove_header(data)\n",
    "        print(\"column\", len(r_data[0]))\n",
    "        print(\"row\", len(r_data))\n",
    "    return r_data\n",
    "#remove header--------------\n",
    "def remove_header(data):\n",
    "    print(data[0])\n",
    "    del data[0]\n",
    "    return data"
   ]
  },
  {
   "cell_type": "code",
   "execution_count": 3,
   "metadata": {},
   "outputs": [
    {
     "name": "stdout",
     "output_type": "stream",
     "text": [
      "./data/dataset/1.csv\n",
      "['score', 'code']\n",
      "column 2\n",
      "row 623\n"
     ]
    }
   ],
   "source": [
    "#read data----------------------------\n",
    "raw_data = []\n",
    "#raw_data = load_data(\"./data/pandas/pandas.csv\")\n",
    "raw_data = load_data(\"./data/dataset/1.csv\")"
   ]
  },
  {
   "cell_type": "code",
   "execution_count": 4,
   "metadata": {},
   "outputs": [
    {
     "name": "stdout",
     "output_type": "stream",
     "text": [
      "./data/test/test_pandas.csv\n",
      "['predicted_score', 'code', 'true_score']\n",
      "column 3\n",
      "row 10\n",
      "[['import']]\n",
      "[['import'], ['      import']]\n",
      "[['import'], ['      import'], ['import pandas']]\n",
      "[['import'], ['      import'], ['import pandas'], ['X = []']]\n",
      "[['import'], ['      import'], ['import pandas'], ['X = []'], ['X']]\n",
      "[['import'], ['      import'], ['import pandas'], ['X = []'], ['X'], ['X=']]\n",
      "[['import'], ['      import'], ['import pandas'], ['X = []'], ['X'], ['X='], ['Z = []']]\n",
      "[['import'], ['      import'], ['import pandas'], ['X = []'], ['X'], ['X='], ['Z = []'], ['Z ']]\n",
      "[['import'], ['      import'], ['import pandas'], ['X = []'], ['X'], ['X='], ['Z = []'], ['Z '], ['return']]\n",
      "[['import'], ['      import'], ['import pandas'], ['X = []'], ['X'], ['X='], ['Z = []'], ['Z '], ['return'], ['return X,y']]\n",
      "0\n",
      "0\n",
      "1\n",
      "1\n",
      "0\n",
      "0\n",
      "1\n",
      "0\n",
      "0\n",
      "1\n"
     ]
    }
   ],
   "source": [
    "# predicit/empty score------------------------------------\n",
    "X_submission = load_data(\"./data/test/test_pandas.csv\")\n",
    "Predict = []\n",
    "true_score = []\n",
    "\n",
    "for row in X_submission:\n",
    "    entry = [row[1]]\n",
    "    Predict.append(entry)\n",
    "    print(Predict)\n",
    "for row in X_submission:\n",
    "    entry = str(row[2])\n",
    "    true_score.append(entry)\n",
    "    print(entry)\n",
    "#print(true_score)\n",
    "\n"
   ]
  },
  {
   "cell_type": "code",
   "execution_count": 5,
   "metadata": {
    "tags": []
   },
   "outputs": [],
   "source": [
    "# split train data and test data from X_train----------------------------\n",
    "def split_data(raw_data, splite_rate, test_rate):\n",
    "    raw_train, _ = train_test_split(raw_data, test_size= 1-splite_rate)\n",
    "    X = []\n",
    "    y = []\n",
    "    for row in raw_data:\n",
    "        entry = [row[1]]\n",
    "        X.append(entry)\n",
    "        y.append((row[0]))\n",
    "    train_X, test_X, train_y, test_y = train_test_split(X, y, test_size= test_rate)\n",
    "    return train_X, test_X, train_y, test_y\n",
    "\n",
    "Train_X, TestX, Train_y ,Testy = split_data(raw_data, 0.1, 0.2)\n"
   ]
  },
  {
   "cell_type": "code",
   "execution_count": 6,
   "metadata": {
    "tags": []
   },
   "outputs": [],
   "source": [
    "#extract text from Train_X, TestX, predict-------------------------------\n",
    "def extract_text(Train_X, TestX, Predict):\n",
    "    Train_text = []\n",
    "    for row in Train_X:\n",
    "        Train_text.append(row[0])\n",
    "\n",
    "    Test_text = []\n",
    "    for row in TestX:\n",
    "        Test_text.append(row[0])\n",
    "\n",
    "    Predict_text = []\n",
    "    for row in Predict:\n",
    "        Predict_text.append(row[0])\n",
    "    # print(Test_text)\n",
    "    # combine Train and Predict Text for vectorize\n",
    "    combine_text = Train_text + Test_text + Predict_text\n",
    "    shuffle(combine_text)\n",
    "    return Train_text, Test_text, Predict_text, combine_text\n",
    "\n",
    "Train_text, Test_text, Predict_text,combine_text = extract_text(Train_X, TestX, Predict)\n",
    "\n"
   ]
  },
  {
   "cell_type": "code",
   "execution_count": 7,
   "metadata": {},
   "outputs": [],
   "source": [
    "# vectorizing---------------------------\n",
    "vectorizer = TfidfVectorizer(analyzer='word', stop_words='english')\n",
    "vectorizer.fit(combine_text)\n",
    "train_vec = vectorizer.transform(Train_text)\n",
    "test_vec = vectorizer.transform(Test_text)\n",
    "predict_vec = vectorizer.transform(Predict_text)"
   ]
  },
  {
   "cell_type": "code",
   "execution_count": 8,
   "metadata": {},
   "outputs": [],
   "source": [
    "# off-line accuracy_cal--------------------\n",
    "def accuracy_cal(Predict, true_score):\n",
    "    count = 0\n",
    "    for i in range(len(Predict)):\n",
    "        if Predict[i] == true_score[i]:\n",
    "            count+=1\n",
    "    print(\"predict: \", Predict)\n",
    "    print(\"true_score: \", true_score)\n",
    "    accuracy = round(count / len(Predict) * 100, 4)\n",
    "    print(\"accuracy: \", accuracy, \" %\")\n",
    "    return accuracy\n",
    "    \n",
    "    \n",
    "# write csv file------------------------\n",
    "def output_csv(filename, predict, predict_y, true_score):\n",
    "    path  = filename + \".csv\"\n",
    "    with open(path,'a+', newline='') as file:\n",
    "        csv_write = csv.writer(file)\n",
    "        csv_write.writerow([\"predicted_score\", \"code\", \"true_score\"])\n",
    "        for i in range(len(predict)):\n",
    "            entry = [ predict_y[i], predict[i][0], true_score[i]]\n",
    "            csv_write.writerow(entry)"
   ]
  },
  {
   "cell_type": "code",
   "execution_count": 9,
   "metadata": {},
   "outputs": [
    {
     "name": "stdout",
     "output_type": "stream",
     "text": [
      "Logistic Regression\n"
     ]
    }
   ],
   "source": [
    "#Logistic Regression\n",
    "print(\"Logistic Regression\")\n",
    "classifier = linear_model.LogisticRegression(n_jobs=-1)\n",
    "classifier.fit(train_vec, Train_y)\n",
    "prediction = classifier.predict(test_vec)\n",
    "#accuracy = accuracy_cal(prediction, true_score)\n",
    "output_csv(\"perdiction_LogReg\", Predict, classifier.predict(predict_vec),true_score)"
   ]
  },
  {
   "cell_type": "code",
   "execution_count": 11,
   "metadata": {},
   "outputs": [
    {
     "name": "stdout",
     "output_type": "stream",
     "text": [
      "Naive Bayes\n"
     ]
    }
   ],
   "source": [
    "#Naive Bayes\n",
    "print(\"Naive Bayes\")\n",
    "classifier = []\n",
    "prediction = []\n",
    "accuracy = []\n",
    "\n",
    "classifier = naive_bayes.MultinomialNB()\n",
    "classifier.fit(train_vec, Train_y)\n",
    "prediction = classifier.predict(test_vec)\n",
    "#accuracy = accuracy_cal(prediction, true_score)\n",
    "# csv Naive Bayes Prediction------------------\n",
    "output_csv(\"perdiction_NaBa\", Predict, classifier.predict(predict_vec),true_score)"
   ]
  },
  {
   "cell_type": "code",
   "execution_count": 12,
   "metadata": {},
   "outputs": [
    {
     "name": "stdout",
     "output_type": "stream",
     "text": [
      "KNN\n"
     ]
    }
   ],
   "source": [
    "#KNN\n",
    "print(\"KNN\")\n",
    "classifier = []\n",
    "prediction = []\n",
    "accuracy = []\n",
    "\n",
    "classifier = KNeighborsClassifier(n_neighbors=3)\n",
    "classifier.fit(train_vec, Train_y)\n",
    "prediction = classifier.predict(test_vec)\n",
    "#accuracy = accuracy_cal(prediction, true_score)\n",
    "output_csv(\"perdiction_knn\", Predict, classifier.predict(predict_vec),true_score)"
   ]
  },
  {
   "cell_type": "code",
   "execution_count": 13,
   "metadata": {},
   "outputs": [],
   "source": [
    "#SVM\n",
    "classifier = []\n",
    "prediction = []\n",
    "accuracy = []\n",
    "\n",
    "classifier = svm.SVC()\n",
    "classifier.fit(train_vec, Train_y)\n",
    "prediction = classifier.predict(test_vec)\n",
    "#accuracy = accuracy_cal(prediction, true_score)\n",
    "output_csv(\"perdiction_SVM\", Predict, classifier.predict(predict_vec),true_score)\n"
   ]
  },
  {
   "cell_type": "code",
   "execution_count": 14,
   "metadata": {},
   "outputs": [],
   "source": [
    "#Decison Tree\n",
    "classifier = []\n",
    "prediction = []\n",
    "accuracy = []\n",
    "\n",
    "classifier = tree.DecisionTreeClassifier()\n",
    "classifier.fit(train_vec, Train_y)\n",
    "prediction = classifier.predict(test_vec)\n",
    "#accuracy = accuracy_cal(prediction, true_score)\n",
    "output_csv(\"perdiction_DecTree\", Predict, classifier.predict(predict_vec),true_score)\n"
   ]
  },
  {
   "cell_type": "code",
   "execution_count": null,
   "metadata": {},
   "outputs": [
    {
     "data": {
      "image/png": "[encoded data removed]",
      "text/plain": [
       "<Figure size 432x288 with 2 Axes>"
      ]
     },
     "metadata": {
      "needs_background": "light"
     },
     "output_type": "display_data"
    }
   ],
   "source": [
    "# Plot a confusion matrix\n",
    "cm = confusion_matrix(Testy, prediction, normalize='true')\n",
    "sns.heatmap(cm, annot=True)\n",
    "plt.title('Confusion matrix of the classifier')\n",
    "plt.xlabel('Predicted')\n",
    "plt.ylabel('True')\n",
    "plt.show()"
   ]
  }
 ],
 "metadata": {
  "kernelspec": {
   "display_name": "Python 3.8.8 64-bit",
   "metadata": {
    "interpreter": {
     "hash": "082e9a3bcad0a290d0001e938aa60b99250c6c2ef33a923c00b70f9826caf4b7"
    }
   },
   "name": "python3"
  },
  "language_info": {
   "codemirror_mode": {
    "name": "ipython",
    "version": 3
   },
   "file_extension": ".py",
   "mimetype": "text/x-python",
   "name": "python",
   "nbconvert_exporter": "python",
   "pygments_lexer": "ipython3",
   "version": "3.8.8"
  },
  "pycharm": {
   "stem_cell": {
    "cell_type": "raw",
    "metadata": {
     "collapsed": false
    },
    "source": []
   }
  }
 },
 "nbformat": 4,
 "nbformat_minor": 4
}
