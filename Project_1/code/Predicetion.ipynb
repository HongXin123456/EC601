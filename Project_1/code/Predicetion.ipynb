{
 "cells": [
  {
   "cell_type": "code",
   "execution_count": 256,
   "metadata": {
    "collapsed": false,
    "jupyter": {
     "outputs_hidden": false
    },
    "pycharm": {
     "is_executing": false,
     "name": "#%%\n"
    }
   },
   "outputs": [],
   "source": [
    "import numpy as np\n",
    "import csv\n",
    "from sklearn.model_selection import train_test_split\n",
    "from random import shuffle\n",
    "from sklearn.feature_extraction.text import TfidfVectorizer\n",
    "from sklearn import naive_bayes\n",
    "import pandas as pd\n",
    "from sklearn import linear_model\n",
    "from sklearn import ensemble\n",
    "from sklearn.neighbors import KNeighborsClassifier\n",
    "from sklearn.metrics import mean_squared_error, confusion_matrix\n",
    "import seaborn as sns\n",
    "import matplotlib.pyplot as plt\n",
    "from sklearn import svm\n",
    "import glob\n",
    "from sklearn import tree\n",
    "\n",
    "# cleaning data-----------------------------------\n",
    "def load_data(filename):\n",
    "    print(filename)\n",
    "\n",
    "    with open(filename) as file:\n",
    "        reader = csv.reader(file)\n",
    "        data = []\n",
    "        for row in reader:\n",
    "            entry = []\n",
    "            for attr in row:\n",
    "                entry.append(attr)\n",
    "            data.append(entry)\n",
    "        r_data = remove_header(data)\n",
    "        print(\"column\", len(r_data[0]))\n",
    "        print(\"row\", len(r_data))\n",
    "    return r_data\n",
    "#remove header--------------\n",
    "def remove_header(data):\n",
    "    print(data[0])\n",
    "    del data[0]\n",
    "    return data"
   ]
  },
  {
   "cell_type": "code",
   "execution_count": 257,
   "metadata": {},
   "outputs": [
    {
     "name": "stdout",
     "output_type": "stream",
     "text": [
      "./data/dataset/dataset_2.csv\n",
      "['Train_y', 'Train_x', '']\n",
      "column 3\n",
      "row 117\n"
     ]
    }
   ],
   "source": [
    "#read data----------------------------\n",
    "raw_data = []\n",
    "raw_data = load_data(\"./data/dataset/dataset_2.csv\")\n",
    "#raw_data = load_data(\"./data/dataset/1.csv\")\n",
    "\n",
    "csvfile_name = \"perdiction_6\""
   ]
  },
  {
   "cell_type": "code",
   "execution_count": 258,
   "metadata": {},
   "outputs": [
    {
     "name": "stdout",
     "output_type": "stream",
     "text": [
      "./data/test/test_1.csv\n",
      "['predicted_score', 'Test_x', 'Test_y']\n",
      "column 3\n",
      "row 8\n",
      "8\n"
     ]
    }
   ],
   "source": [
    "# predicit/empty score------------------------------------\n",
    "X_submission = load_data(\"./data/test/test_1.csv\")\n",
    "Predict = []\n",
    "true_score = []\n",
    "\n",
    "for row in X_submission:\n",
    "    entry = [row[1]]\n",
    "    Predict.append(entry)\n",
    "    #print(Predict)\n",
    "for row in X_submission:\n",
    "    entry = str(row[2])\n",
    "    true_score.append(entry)\n",
    "    #print(entry)\n",
    "print(len(true_score))\n",
    "\n"
   ]
  },
  {
   "cell_type": "code",
   "execution_count": 259,
   "metadata": {
    "tags": []
   },
   "outputs": [],
   "source": [
    "# split train data and test data from X_train----------------------------\n",
    "def split_data(raw_data, splite_rate, test_rate):\n",
    "    raw_train, _ = train_test_split(raw_data, test_size= 1-splite_rate)\n",
    "    X = []\n",
    "    y = []\n",
    "    for row in raw_data:\n",
    "        entry = [row[1]]\n",
    "        X.append(entry)\n",
    "        y.append((row[0]))\n",
    "    train_X, test_X, train_y, test_y = train_test_split(X, y, test_size= test_rate)\n",
    "    return train_X, test_X, train_y, test_y\n",
    "\n",
    "Train_X, TestX, Train_y ,Testy = split_data(raw_data, 0.1, 0.2)\n"
   ]
  },
  {
   "cell_type": "code",
   "execution_count": 260,
   "metadata": {
    "tags": []
   },
   "outputs": [],
   "source": [
    "#extract text from Train_X, TestX, predict-------------------------------\n",
    "def extract_text(Train_X, TestX, Predict):\n",
    "    Train_text = []\n",
    "    for row in Train_X:\n",
    "        Train_text.append(row[0])\n",
    "\n",
    "    Test_text = []\n",
    "    for row in TestX:\n",
    "        Test_text.append(row[0])\n",
    "\n",
    "    Predict_text = []\n",
    "    for row in Predict:\n",
    "        Predict_text.append(row[0])\n",
    "    # print(Test_text)\n",
    "    # combine Train and Predict Text for vectorize\n",
    "    combine_text = Train_text + Test_text + Predict_text\n",
    "    shuffle(combine_text)\n",
    "    return Train_text, Test_text, Predict_text, combine_text\n",
    "\n",
    "Train_text, Test_text, Predict_text,combine_text = extract_text(Train_X, TestX, Predict)\n",
    "\n"
   ]
  },
  {
   "cell_type": "code",
   "execution_count": 261,
   "metadata": {},
   "outputs": [],
   "source": [
    "# vectorizing---------------------------\n",
    "vectorizer = TfidfVectorizer(analyzer='word', stop_words='english')\n",
    "vectorizer.fit(combine_text)\n",
    "train_vec = vectorizer.transform(Train_text)\n",
    "test_vec = vectorizer.transform(Test_text)\n",
    "predict_vec = vectorizer.transform(Predict_text)"
   ]
  },
  {
   "cell_type": "code",
   "execution_count": 262,
   "metadata": {},
   "outputs": [],
   "source": [
    "#Calculate accuracy------------------------\n",
    "def accuracy_cal(predict_y, true_score):\n",
    "    count = 0\n",
    "    for i in range(len(predict_y)):\n",
    "        if predict_y[i] == true_score[i]:\n",
    "            count+=1\n",
    "    accuracy = round(count / len(predict_y) * 100, 4)\n",
    "    print('accuracy:', accuracy,'%')\n",
    "    return accuracy\n",
    "\n",
    "# write csv file------------------------\n",
    "def output_csv(filename, model, predict, predict_y, true_score, accuracy):\n",
    "    path  = filename + \".csv\"\n",
    "    with open(path,'a+', newline='') as file:\n",
    "        csv_write = csv.writer(file)\n",
    "        csv_write.writerow([\"model_name\", \"predicted_score\", \"code\", \"true_score\", \"accuracy\"])\n",
    "        for i in range(len(predict)):\n",
    "            entry = [model, predict_y[i], predict[i][0], true_score[i], accuracy]\n",
    "            csv_write.writerow(entry)\n",
    "\n"
   ]
  },
  {
   "cell_type": "code",
   "execution_count": 263,
   "metadata": {},
   "outputs": [
    {
     "name": "stdout",
     "output_type": "stream",
     "text": [
      "Logistic Regression\n",
      "accuracy: 37.5 %\n"
     ]
    }
   ],
   "source": [
    "#Logistic Regression\n",
    "print(\"Logistic Regression\")\n",
    "classifier = linear_model.LogisticRegression(n_jobs=-1)\n",
    "classifier.fit(train_vec, Train_y)\n",
    "prediction = classifier.predict(test_vec)\n",
    "accur = accuracy_cal(classifier.predict(predict_vec), true_score)\n",
    "output_csv(csvfile_name, \"Log_Reg\", Predict, classifier.predict(predict_vec),true_score, accur)\n"
   ]
  },
  {
   "cell_type": "code",
   "execution_count": 264,
   "metadata": {},
   "outputs": [
    {
     "name": "stdout",
     "output_type": "stream",
     "text": [
      "Naive Bayes\n",
      "accuracy: 37.5 %\n"
     ]
    }
   ],
   "source": [
    "#Naive Bayes\n",
    "print(\"Naive Bayes\")\n",
    "classifier = []\n",
    "prediction = []\n",
    "accuracy = []\n",
    "\n",
    "classifier = naive_bayes.MultinomialNB()\n",
    "classifier.fit(train_vec, Train_y)\n",
    "prediction = classifier.predict(test_vec)\n",
    "accur = accuracy_cal(classifier.predict(predict_vec), true_score)\n",
    "output_csv(csvfile_name, \"Nav_Bay\", Predict, classifier.predict(predict_vec),true_score, accur)"
   ]
  },
  {
   "cell_type": "code",
   "execution_count": 265,
   "metadata": {},
   "outputs": [
    {
     "name": "stdout",
     "output_type": "stream",
     "text": [
      "KNN\n",
      "accuracy: 37.5 %\n"
     ]
    }
   ],
   "source": [
    "#KNN\n",
    "print(\"KNN\")\n",
    "classifier = []\n",
    "prediction = []\n",
    "accuracy = []\n",
    "\n",
    "classifier = KNeighborsClassifier(n_neighbors=3)\n",
    "classifier.fit(train_vec, Train_y)\n",
    "prediction = classifier.predict(test_vec)\n",
    "accur = accuracy_cal(classifier.predict(predict_vec), true_score)\n",
    "output_csv(csvfile_name, \"KNN\", Predict, classifier.predict(predict_vec),true_score, accur)"
   ]
  },
  {
   "cell_type": "code",
   "execution_count": 266,
   "metadata": {},
   "outputs": [
    {
     "name": "stdout",
     "output_type": "stream",
     "text": [
      "SVM\n",
      "accuracy: 75.0 %\n"
     ]
    }
   ],
   "source": [
    "#SVM\n",
    "print(\"SVM\")\n",
    "classifier = []\n",
    "prediction = []\n",
    "accuracy = []\n",
    "\n",
    "classifier = svm.SVC()\n",
    "classifier.fit(train_vec, Train_y)\n",
    "prediction = classifier.predict(test_vec)\n",
    "accur = accuracy_cal(classifier.predict(predict_vec), true_score)\n",
    "output_csv(csvfile_name, \"SVM\", Predict, classifier.predict(predict_vec),true_score, accur)"
   ]
  },
  {
   "cell_type": "code",
   "execution_count": 267,
   "metadata": {},
   "outputs": [
    {
     "name": "stdout",
     "output_type": "stream",
     "text": [
      "Decison Tree\n",
      "accuracy: 75.0 %\n"
     ]
    }
   ],
   "source": [
    "#Decison Tree\n",
    "print(\"Decison Tree\")\n",
    "classifier = []\n",
    "prediction = []\n",
    "accuracy = []\n",
    "\n",
    "classifier = tree.DecisionTreeClassifier()\n",
    "classifier.fit(train_vec, Train_y)\n",
    "prediction = classifier.predict(test_vec)\n",
    "accur = accuracy_cal(classifier.predict(predict_vec), true_score)\n",
    "output_csv(csvfile_name, \"Dec_Tre\", Predict, classifier.predict(predict_vec),true_score, accur)"
   ]
  },
  {
   "cell_type": "code",
   "execution_count": 268,
   "metadata": {},
   "outputs": [
    {
     "data": {
      "image/png": "[encoded data removed]",
      "text/plain": [
       "<Figure size 432x288 with 2 Axes>"
      ]
     },
     "metadata": {
      "needs_background": "light"
     },
     "output_type": "display_data"
    }
   ],
   "source": [
    "# Plot a confusion matrix\n",
    "cm = confusion_matrix(Testy, prediction, normalize='true')\n",
    "sns.heatmap(cm, annot=True)\n",
    "plt.title('Confusion matrix of the classifier')\n",
    "plt.xlabel('Predicted')\n",
    "plt.ylabel('True')\n",
    "plt.show()"
   ]
  }
 ],
 "metadata": {
  "kernelspec": {
   "display_name": "Python 3.8.8 64-bit",
   "metadata": {
    "interpreter": {
     "hash": "082e9a3bcad0a290d0001e938aa60b99250c6c2ef33a923c00b70f9826caf4b7"
    }
   },
   "name": "python3"
  },
  "language_info": {
   "codemirror_mode": {
    "name": "ipython",
    "version": 3
   },
   "file_extension": ".py",
   "mimetype": "text/x-python",
   "name": "python",
   "nbconvert_exporter": "python",
   "pygments_lexer": "ipython3",
   "version": "3.8.8"
  },
  "pycharm": {
   "stem_cell": {
    "cell_type": "raw",
    "metadata": {
     "collapsed": false
    },
    "source": []
   }
  }
 },
 "nbformat": 4,
 "nbformat_minor": 4
}
