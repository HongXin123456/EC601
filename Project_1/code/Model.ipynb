{
 "cells": [
  {
   "cell_type": "code",
   "execution_count": 185,
   "metadata": {
    "collapsed": false,
    "jupyter": {
     "outputs_hidden": false
    },
    "pycharm": {
     "is_executing": false,
     "name": "#%%\n"
    }
   },
   "outputs": [],
   "source": [
    "import numpy as np\n",
    "import csv\n",
    "from sklearn.model_selection import train_test_split\n",
    "from random import shuffle\n",
    "from sklearn.feature_extraction.text import TfidfVectorizer\n",
    "from sklearn import naive_bayes\n",
    "import pandas as pd\n",
    "from sklearn import linear_model\n",
    "from sklearn import ensemble\n",
    "from sklearn.neighbors import KNeighborsClassifier\n",
    "from sklearn.metrics import mean_squared_error, confusion_matrix\n",
    "import seaborn as sns\n",
    "import matplotlib.pyplot as plt\n",
    "from sklearn import svm\n",
    "import glob\n",
    "from sklearn import tree\n",
    "\n",
    "# cleaning data-----------------------------------\n",
    "def load_data(filename):\n",
    "    print(filename)\n",
    "\n",
    "    with open(filename) as file:\n",
    "        reader = csv.reader(file)\n",
    "        data = []\n",
    "        for row in reader:\n",
    "            entry = []\n",
    "            for attr in row:\n",
    "                entry.append(attr)\n",
    "            data.append(entry)\n",
    "        r_data = remove_header(data)\n",
    "        print(\"column\", len(r_data[0]))\n",
    "        print(\"row\", len(r_data))\n",
    "    return r_data\n",
    "#remove header--------------\n",
    "def remove_header(data):\n",
    "    print(data[0])\n",
    "    del data[0]\n",
    "    return data"
   ]
  },
  {
   "cell_type": "code",
   "execution_count": 186,
   "metadata": {},
   "outputs": [
    {
     "name": "stdout",
     "output_type": "stream",
     "text": [
      "./data/dataset/dataset.csv\n",
      "['Train_y', 'Train_x', '']\n",
      "column 3\n",
      "row 150\n"
     ]
    }
   ],
   "source": [
    "#read data----------------------------\n",
    "raw_data = []\n",
    "raw_data = load_data(\"./data/dataset/dataset.csv\")\n",
    "\n",
    "csvfile_name = \"Output_if_else_elif\"\n",
    "#csvfile_name = \"Output_import\"\n",
    "#csvfile_name = \"Output_integer\""
   ]
  },
  {
   "cell_type": "code",
   "execution_count": 187,
   "metadata": {},
   "outputs": [
    {
     "name": "stdout",
     "output_type": "stream",
     "text": [
      "./data/test/test_if_else_elif.csv\n",
      "['predicted_score', 'Test_x', 'Test_y']\n",
      "column 3\n",
      "row 10\n",
      "10\n"
     ]
    }
   ],
   "source": [
    "#predicit/empty score------------------------------------\n",
    "X_submission = load_data(\"./data/test/test_if_else_elif.csv\")\n",
    "#X_submission = load_data(\"./data/test/test_import.csv\")\n",
    "#X_submission = load_data(\"./data/test/test_integer.csv\")\n",
    "Predict = []\n",
    "true_score = []\n",
    "\n",
    "for row in X_submission:\n",
    "    entry = [row[1]]\n",
    "    Predict.append(entry)\n",
    "    #print(Predict)\n",
    "for row in X_submission:\n",
    "    entry = str(row[2])\n",
    "    true_score.append(entry)\n",
    "    #print(entry)\n",
    "print(len(true_score))\n",
    "\n"
   ]
  },
  {
   "cell_type": "code",
   "execution_count": 188,
   "metadata": {
    "tags": []
   },
   "outputs": [],
   "source": [
    "# split train data and test data from X_train----------------------------\n",
    "def split_data(raw_data, splite_rate, test_rate):\n",
    "    raw_train, _ = train_test_split(raw_data, test_size= 1-splite_rate)\n",
    "    X = []\n",
    "    y = []\n",
    "    for row in raw_data:\n",
    "        entry = [row[1]]\n",
    "        X.append(entry)\n",
    "        y.append((row[0]))\n",
    "    train_X, test_X, train_y, test_y = train_test_split(X, y, test_size= test_rate)\n",
    "    return train_X, test_X, train_y, test_y\n",
    "\n",
    "Train_X, TestX, Train_y ,Testy = split_data(raw_data, 0.1, 0.2)\n"
   ]
  },
  {
   "cell_type": "code",
   "execution_count": 189,
   "metadata": {
    "tags": []
   },
   "outputs": [],
   "source": [
    "#extract text from Train_X, TestX, predict-------------------------------\n",
    "def extract_text(Train_X, TestX, Predict):\n",
    "    Train_text = []\n",
    "    for row in Train_X:\n",
    "        Train_text.append(row[0])\n",
    "\n",
    "    Test_text = []\n",
    "    for row in TestX:\n",
    "        Test_text.append(row[0])\n",
    "\n",
    "    Predict_text = []\n",
    "    for row in Predict:\n",
    "        Predict_text.append(row[0])\n",
    "    # print(Test_text)\n",
    "    # combine Train and Predict Text for vectorize\n",
    "    combine_text = Train_text + Test_text + Predict_text\n",
    "    shuffle(combine_text)\n",
    "    return Train_text, Test_text, Predict_text, combine_text\n",
    "\n",
    "Train_text, Test_text, Predict_text,combine_text = extract_text(Train_X, TestX, Predict)\n",
    "\n"
   ]
  },
  {
   "cell_type": "code",
   "execution_count": 190,
   "metadata": {},
   "outputs": [
    {
     "data": {
      "text/plain": [
       "['if a == c:',\n",
       " 'if 4>1:',\n",
       " 'else:',\n",
       " 'elif b<6:',\n",
       " 'elif d<8:',\n",
       " 'if c =',\n",
       " 'if a = b',\n",
       " 'else',\n",
       " 'elif b<',\n",
       " 'eli']"
      ]
     },
     "execution_count": 190,
     "metadata": {},
     "output_type": "execute_result"
    }
   ],
   "source": [
    "Predict_text"
   ]
  },
  {
   "cell_type": "code",
   "execution_count": 191,
   "metadata": {},
   "outputs": [],
   "source": [
    "# vectorizing---------------------------\n",
    "vectorizer = TfidfVectorizer(analyzer='word', stop_words='english')\n",
    "vectorizer.fit(combine_text)\n",
    "train_vec = vectorizer.transform(Train_text)\n",
    "test_vec = vectorizer.transform(Test_text)\n",
    "predict_vec = vectorizer.transform(Predict_text)"
   ]
  },
  {
   "cell_type": "code",
   "execution_count": 192,
   "metadata": {},
   "outputs": [],
   "source": [
    "#Calculate accuracy of model------------------------\n",
    "def accuracy_cal(predict_y, true_score):\n",
    "    count = 0\n",
    "    for i in range(len(predict_y)):\n",
    "        if predict_y[i] == true_score[i]:\n",
    "            count+=1\n",
    "    accuracy = round(count / len(predict_y) * 100, 4)\n",
    "    print('accuracy of model:', accuracy,'%')\n",
    "    return accuracy\n",
    "\n",
    "#Calculate accuracy of codes------------------------\n",
    "def accuracy_cal_2(predict_y):\n",
    "    count = 0\n",
    "    for i in range(len(predict_y)):\n",
    "        if predict_y[i] == \"1\":\n",
    "            count+=1\n",
    "    accuracy = round(count / len(predict_y) * 100, 4)\n",
    "    print('accuracy of codes:', accuracy,'%')\n",
    "    return accuracy\n",
    "\n",
    "\n",
    "# write csv file------------------------\n",
    "def output_csv(filename, model, predict, predict_y, true_score, accuracy, accuracy_2):\n",
    "    path  = filename + \".csv\"\n",
    "    with open(path,'a+', newline='') as file:\n",
    "        csv_write = csv.writer(file)\n",
    "        csv_write.writerow([\"model_name\", \"predicted_score\", \"code\", \"true_score\", \"accuracy fo model(%)\", \"accuracy of codes(%)\"])\n",
    "        for i in range(len(predict)):\n",
    "            entry = [model, predict_y[i], predict[i][0], true_score[i], accuracy, accuracy_2]\n",
    "            csv_write.writerow(entry)\n",
    "\n"
   ]
  },
  {
   "cell_type": "code",
   "execution_count": 193,
   "metadata": {},
   "outputs": [
    {
     "name": "stdout",
     "output_type": "stream",
     "text": [
      "Logistic Regression\n",
      "accuracy of model: 60.0 %\n",
      "accuracy of codes: 30.0 %\n"
     ]
    },
    {
     "data": {
      "image/png": "[encoded data removed]",
      "text/plain": [
       "<Figure size 432x288 with 2 Axes>"
      ]
     },
     "metadata": {
      "needs_background": "light"
     },
     "output_type": "display_data"
    }
   ],
   "source": [
    "#Logistic Regression\n",
    "print(\"Logistic Regression\")\n",
    "classifier = linear_model.LogisticRegression(n_jobs=-1)\n",
    "classifier.fit(train_vec, Train_y)\n",
    "prediction = classifier.predict(test_vec)\n",
    "accur = accuracy_cal(classifier.predict(predict_vec), true_score)\n",
    "accur_2= accuracy_cal_2(classifier.predict(predict_vec))\n",
    "output_csv(csvfile_name, \"Log_Reg\", Predict, classifier.predict(predict_vec),true_score, accur, accur_2)\n",
    "\n",
    "# Plot a confusion matrix\n",
    "cm = confusion_matrix(Testy, prediction, normalize='true')\n",
    "sns.heatmap(cm, annot=True)\n",
    "plt.title('Confusion matrix of Logistic Regression')\n",
    "plt.xlabel('Predicted')\n",
    "plt.ylabel('True')\n",
    "plt.show()\n"
   ]
  },
  {
   "cell_type": "code",
   "execution_count": 194,
   "metadata": {},
   "outputs": [
    {
     "name": "stdout",
     "output_type": "stream",
     "text": [
      "Naive Bayes\n",
      "accuracy of model: 60.0 %\n",
      "accuracy of codes: 30.0 %\n"
     ]
    },
    {
     "data": {
      "image/png": "[encoded data removed]",
      "text/plain": [
       "<Figure size 432x288 with 2 Axes>"
      ]
     },
     "metadata": {
      "needs_background": "light"
     },
     "output_type": "display_data"
    }
   ],
   "source": [
    "#Naive Bayes\n",
    "print(\"Naive Bayes\")\n",
    "classifier = []\n",
    "prediction = []\n",
    "accuracy = []\n",
    "\n",
    "classifier = naive_bayes.MultinomialNB()\n",
    "classifier.fit(train_vec, Train_y)\n",
    "prediction = classifier.predict(test_vec)\n",
    "accur = accuracy_cal(classifier.predict(predict_vec), true_score)\n",
    "accur_2= accuracy_cal_2(classifier.predict(predict_vec))\n",
    "output_csv(csvfile_name, \"Nav_Bay\", Predict, classifier.predict(predict_vec),true_score, accur, accur_2)\n",
    "\n",
    "# Plot a confusion matrix\n",
    "cm = confusion_matrix(Testy, prediction, normalize='true')\n",
    "sns.heatmap(cm, annot=True)\n",
    "plt.title('Confusion matrix of Naive Bayes')\n",
    "plt.xlabel('Predicted')\n",
    "plt.ylabel('True')\n",
    "plt.show()"
   ]
  },
  {
   "cell_type": "code",
   "execution_count": 195,
   "metadata": {},
   "outputs": [
    {
     "name": "stdout",
     "output_type": "stream",
     "text": [
      "KNN\n",
      "accuracy of model: 40.0 %\n",
      "accuracy of codes: 70.0 %\n"
     ]
    },
    {
     "data": {
      "image/png": "[encoded data removed]",
      "text/plain": [
       "<Figure size 432x288 with 2 Axes>"
      ]
     },
     "metadata": {
      "needs_background": "light"
     },
     "output_type": "display_data"
    }
   ],
   "source": [
    "#KNN\n",
    "print(\"KNN\")\n",
    "classifier = []\n",
    "prediction = []\n",
    "accuracy = []\n",
    "\n",
    "classifier = KNeighborsClassifier(n_neighbors=3)\n",
    "classifier.fit(train_vec, Train_y)\n",
    "prediction = classifier.predict(test_vec)\n",
    "accur = accuracy_cal(classifier.predict(predict_vec), true_score)\n",
    "accur_2= accuracy_cal_2(classifier.predict(predict_vec))\n",
    "output_csv(csvfile_name, \"KNN\", Predict, classifier.predict(predict_vec),true_score, accur, accur_2)\n",
    "\n",
    "# Plot a confusion matrix\n",
    "cm = confusion_matrix(Testy, prediction, normalize='true')\n",
    "sns.heatmap(cm, annot=True)\n",
    "plt.title('Confusion matrix of KNN')\n",
    "plt.xlabel('Predicted')\n",
    "plt.ylabel('True')\n",
    "plt.show()"
   ]
  },
  {
   "cell_type": "code",
   "execution_count": 196,
   "metadata": {},
   "outputs": [
    {
     "name": "stdout",
     "output_type": "stream",
     "text": [
      "SVM\n",
      "accuracy of model: 50.0 %\n",
      "accuracy of codes: 60.0 %\n"
     ]
    },
    {
     "data": {
      "image/png": "[encoded data removed]",
      "text/plain": [
       "<Figure size 432x288 with 2 Axes>"
      ]
     },
     "metadata": {
      "needs_background": "light"
     },
     "output_type": "display_data"
    }
   ],
   "source": [
    "#SVM\n",
    "print(\"SVM\")\n",
    "classifier = []\n",
    "prediction = []\n",
    "accuracy = []\n",
    "\n",
    "classifier = svm.SVC()\n",
    "classifier.fit(train_vec, Train_y)\n",
    "prediction = classifier.predict(test_vec)\n",
    "accur = accuracy_cal(classifier.predict(predict_vec), true_score)\n",
    "accur_2= accuracy_cal_2(classifier.predict(predict_vec))\n",
    "output_csv(csvfile_name, \"SVM\", Predict, classifier.predict(predict_vec),true_score, accur, accur_2)\n",
    "\n",
    "\n",
    "# Plot a confusion matrix\n",
    "cm = confusion_matrix(Testy, prediction, normalize='true')\n",
    "sns.heatmap(cm, annot=True)\n",
    "plt.title('Confusion matrix of SVM')\n",
    "plt.xlabel('Predicted')\n",
    "plt.ylabel('True')\n",
    "plt.show()"
   ]
  },
  {
   "cell_type": "code",
   "execution_count": 197,
   "metadata": {},
   "outputs": [
    {
     "name": "stdout",
     "output_type": "stream",
     "text": [
      "Decison Tree\n",
      "accuracy of model: 50.0 %\n",
      "accuracy of codes: 60.0 %\n"
     ]
    },
    {
     "data": {
      "image/png": "[encoded data removed]",
      "text/plain": [
       "<Figure size 432x288 with 2 Axes>"
      ]
     },
     "metadata": {
      "needs_background": "light"
     },
     "output_type": "display_data"
    }
   ],
   "source": [
    "#Decison Tree\n",
    "print(\"Decison Tree\")\n",
    "classifier = []\n",
    "prediction = []\n",
    "accuracy = []\n",
    "\n",
    "classifier = tree.DecisionTreeClassifier()\n",
    "classifier.fit(train_vec, Train_y)\n",
    "prediction = classifier.predict(test_vec)\n",
    "accur = accuracy_cal(classifier.predict(predict_vec), true_score)\n",
    "accur_2= accuracy_cal_2(classifier.predict(predict_vec))\n",
    "output_csv(csvfile_name, \"Dec_Tre\", Predict, classifier.predict(predict_vec),true_score, accur, accur_2)\n",
    "\n",
    "\n",
    "# Plot a confusion matrix\n",
    "cm = confusion_matrix(Testy, prediction, normalize='true')\n",
    "sns.heatmap(cm, annot=True)\n",
    "plt.title('Confusion matrix of Naive Bayes')\n",
    "plt.xlabel('Predicted')\n",
    "plt.ylabel('True')\n",
    "plt.show()"
   ]
  }
 ],
 "metadata": {
  "kernelspec": {
   "display_name": "Python 3.8.8 64-bit",
   "metadata": {
    "interpreter": {
     "hash": "082e9a3bcad0a290d0001e938aa60b99250c6c2ef33a923c00b70f9826caf4b7"
    }
   },
   "name": "python3"
  },
  "language_info": {
   "codemirror_mode": {
    "name": "ipython",
    "version": 3
   },
   "file_extension": ".py",
   "mimetype": "text/x-python",
   "name": "python",
   "nbconvert_exporter": "python",
   "pygments_lexer": "ipython3",
   "version": "3.8.8"
  },
  "pycharm": {
   "stem_cell": {
    "cell_type": "raw",
    "metadata": {
     "collapsed": false
    },
    "source": []
   }
  }
 },
 "nbformat": 4,
 "nbformat_minor": 4
}
