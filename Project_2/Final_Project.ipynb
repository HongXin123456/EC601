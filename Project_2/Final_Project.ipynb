{
 "cells": [
  {
   "cell_type": "code",
   "execution_count": 1,
   "metadata": {},
   "outputs": [
    {
     "ename": "ImportError",
     "evalue": "cannot import name 'enums' from 'google.cloud.language_v1' (C:\\Users\\hongx\\AppData\\Local\\Programs\\Python\\Python38\\lib\\site-packages\\google\\cloud\\language_v1\\__init__.py)",
     "output_type": "error",
     "traceback": [
      "\u001b[1;31m---------------------------------------------------------------------------\u001b[0m",
      "\u001b[1;31mImportError\u001b[0m                               Traceback (most recent call last)",
      "\u001b[1;32m<ipython-input-1-a4673b250df2>\u001b[0m in \u001b[0;36m<module>\u001b[1;34m\u001b[0m\n\u001b[0;32m      4\u001b[0m \u001b[1;32mimport\u001b[0m \u001b[0margparse\u001b[0m\u001b[1;33m\u001b[0m\u001b[1;33m\u001b[0m\u001b[0m\n\u001b[0;32m      5\u001b[0m \u001b[1;32mfrom\u001b[0m \u001b[0mgoogle\u001b[0m\u001b[1;33m.\u001b[0m\u001b[0mcloud\u001b[0m \u001b[1;32mimport\u001b[0m \u001b[0mlanguage_v1\u001b[0m\u001b[1;33m\u001b[0m\u001b[1;33m\u001b[0m\u001b[0m\n\u001b[1;32m----> 6\u001b[1;33m \u001b[1;32mfrom\u001b[0m \u001b[0mgoogle\u001b[0m\u001b[1;33m.\u001b[0m\u001b[0mcloud\u001b[0m\u001b[1;33m.\u001b[0m\u001b[0mlanguage_v1\u001b[0m \u001b[1;32mimport\u001b[0m \u001b[0menums\u001b[0m\u001b[1;33m\u001b[0m\u001b[1;33m\u001b[0m\u001b[0m\n\u001b[0m\u001b[0;32m      7\u001b[0m \u001b[1;32mimport\u001b[0m \u001b[0mtweepy\u001b[0m\u001b[1;33m\u001b[0m\u001b[1;33m\u001b[0m\u001b[0m\n\u001b[0;32m      8\u001b[0m \u001b[1;32mimport\u001b[0m \u001b[0mmatplotlib\u001b[0m\u001b[1;33m.\u001b[0m\u001b[0mpyplot\u001b[0m \u001b[1;32mas\u001b[0m \u001b[0mplt\u001b[0m\u001b[1;33m\u001b[0m\u001b[1;33m\u001b[0m\u001b[0m\n",
      "\u001b[1;31mImportError\u001b[0m: cannot import name 'enums' from 'google.cloud.language_v1' (C:\\Users\\hongx\\AppData\\Local\\Programs\\Python\\Python38\\lib\\site-packages\\google\\cloud\\language_v1\\__init__.py)"
     ]
    }
   ],
   "source": [
    "import numpy as np\n",
    "import pandas as pd\n",
    "import os\n",
    "import argparse\n",
    "from google.cloud import language_v1\n",
    "from google.cloud.language_v1 import enums\n",
    "import tweepy\n",
    "import matplotlib.pyplot as plt"
   ]
  },
  {
   "cell_type": "code",
   "execution_count": 4,
   "metadata": {},
   "outputs": [],
   "source": [
    "access_key=\"\"\n",
    "access_secret=\"\"\n",
    "consumer_key=\"\"\n",
    "consumer_secret=\"\"\n",
    "\n",
    "auth= tweepy.OAuthHandler(consumer_key,consumer_secret)\n",
    "auth.set_access_token(access_key, access_secret)\n",
    "api = tweepy.API(auth, wait_on_rate_limit=True)\n",
    "\n",
    "os.environ[\"GOOGLE_APPLICATION_CREDENTIALS\"]=\"\""
   ]
  },
  {
   "cell_type": "code",
   "execution_count": 10,
   "metadata": {},
   "outputs": [
    {
     "name": "stdout",
     "output_type": "stream",
     "text": [
      "JessicaXinH: 18 number of statuses have been fetched.\n",
      "JessicaXinH_Timeline.txt\n",
      "Print 20 most recent statuses\n"
     ]
    }
   ],
   "source": [
    "# screen name of the account to be fetched\n",
    "screen_name = \"JessicaXinH\"\n",
    "  \n",
    "# fetching the statuses\n",
    "statuses = api.user_timeline(screen_name)\n",
    "\n",
    "#export results to a txt file\n",
    "print(screen_name + \": \" + str(len(statuses)) + \" number of statuses have been fetched.\")\n",
    "lines = [screen_name + 'Timeline', str(statuses)]\n",
    "with open(screen_name+'_Timeline.txt', 'w') as f:\n",
    "    for line in lines:\n",
    "        f.write(line)\n",
    "        f.write('\\n')\n",
    "print(screen_name+'_Timeline.txt')\n",
    "\n",
    "print(\"Print 20 most recent statuses\")\n",
    "count = 0\n",
    "for status in statuses:\n",
    "    count = count + 1\n",
    "    print(str(count) + status.text, end = \"\\n\")"
   ]
  },
  {
   "cell_type": "code",
   "execution_count": null,
   "metadata": {},
   "outputs": [],
   "source": [
    "file = open(screen_name+'_Timeline.txt',\"r+\")\n",
    "text= file.readline()\n",
    "#text = \"I am very happy\""
   ]
  },
  {
   "cell_type": "code",
   "execution_count": 82,
   "metadata": {},
   "outputs": [],
   "source": [
    "posts = api.user_timeline(screen_name = screen_name, count = 20, lang = \"en\", tweet_mode = \"extended\", include_rts = True, exclude_replies = True )\n",
    "df = pd.DataFrame([tweet.full_text for tweet in posts], columns = ['Tweets'])\n",
    "client = language_v1.LanguageServiceClient()\n",
    "type_ = enums.Document.Type.PLAIN_TEXT\n",
    "language = \"en\"\n",
    "document = {\"content\": text, \"type\": type_, \"language\": language}\n",
    "\n",
    "encoding_tpye = enums.EncodingType.UTF8\n",
    "\n",
    "response = client.analyze_sentiment(document, encoding_type=encoding_type)"
   ]
  },
  {
   "cell_type": "code",
   "execution_count": null,
   "metadata": {},
   "outputs": [],
   "source": [
    "#Get sentiment of sentence\n",
    "for sentence in response.sentences:\n",
    "    print(u\"Sentence text: {}\".format(sentence.text.content))\n",
    "    print(u\"Sentence sentiment score: {}\".format(sentence.sentiment.score))\n",
    "    print(u\"Sentence sentiment magnitude: {}\".format(sentence.sentiment.magnitude))\n",
    "    df.at[sentence,'Sentence_score'] = response.document_sentiment.score\n",
    "    df.at[sentence,'Sentence_magnitude'] = response.document_sentiment.magnitude\n",
    "#get sentiment of the document\n",
    "print(u\"Document sentiment score: {}\".format(response.document_sentiment.score))\n",
    "print(u\"magnitude: {}\".format(response.document_sentiment.magnitude))"
   ]
  },
  {
   "cell_type": "code",
   "execution_count": null,
   "metadata": {},
   "outputs": [],
   "source": [
    "plt.figure(figsize=(6,6))\n",
    "for i in range(0,df.shape[0]):\n",
    "    plt.scatter(df.at[i, 'Sentence_score'], df.at[i, 'Sentence_magnitude'])\n",
    "plt.title(screen_name+'_Sentiment_Analysis')\n",
    "plt.xlabel('Sentence_score')\n",
    "plt.ylabel('Sentence_magnitude')\n",
    "plt.show()\n",
    "plt.close()"
   ]
  }
 ],
 "metadata": {
  "interpreter": {
   "hash": "788c7a583b49e0f108948e9844ef083ea97a54690da4d8e91da56fd70fa16a57"
  },
  "kernelspec": {
   "display_name": "Python 3.8.8 64-bit",
   "name": "python3"
  },
  "language_info": {
   "codemirror_mode": {
    "name": "ipython",
    "version": 3
   },
   "file_extension": ".py",
   "mimetype": "text/x-python",
   "name": "python",
   "nbconvert_exporter": "python",
   "pygments_lexer": "ipython3",
   "version": "3.8.8"
  },
  "orig_nbformat": 4
 },
 "nbformat": 4,
 "nbformat_minor": 2
}
