{
 "cells": [
  {
   "cell_type": "code",
   "execution_count": null,
   "source": [
    "from google.cloud import language\r\n",
    "from google.cloud import language_v1\r\n",
    "from google.cloud.language import enums\r\n",
    "from google.cloud.language import types\r\n",
    "from google.cloud.language_v1 import enums\r\n",
    "import sys"
   ],
   "outputs": [],
   "metadata": {}
  },
  {
   "cell_type": "code",
   "execution_count": null,
   "source": [
    "file1 = open(\"test.txt\",\"r+\")\r\n",
    "text = file1.readline()"
   ],
   "outputs": [],
   "metadata": {}
  },
  {
   "cell_type": "code",
   "execution_count": null,
   "source": [
    "client = language_v1.LanguageServiceClient()\r\n",
    "type_ = enums.Document.Type.PLAIN_TEXT\r\n",
    "document = {\"content\": text, \"type\": type_}\r\n",
    "\r\n",
    "encoding_type = enums.EncodingType.UTF8\r\n",
    "response = client.analyze_sentiment(document, encoding_type=encoding_type)\r\n",
    "\r\n",
    "# Get sentiment of  sentences \r\n",
    "for sentence in response.sentences:\r\n",
    "    print(u\"Sentence text: {}\".format(sentence.text.content))\r\n",
    "    print(u\"Sentence sentiment score: {}\".format(sentence.sentiment.score))\r\n",
    "    print(u\"Sentence sentiment magnitude: {}\".format(sentence.sentiment.magnitude))\r\n",
    "    \r\n",
    "# Get sentiment of the document\r\n",
    "print(u\"Document sentiment score: {}\".format(response.document_sentiment.score))\r\n",
    "print(u\"magnitude: {}\".format(response.document_sentiment.magnitude))\r\n",
    "\r\n",
    "#Get language of text\r\n",
    "print(u\"Language: {}\".format(response.language))\r\n"
   ],
   "outputs": [],
   "metadata": {}
  },
  {
   "cell_type": "code",
   "execution_count": null,
   "source": [
    "file1.close()"
   ],
   "outputs": [],
   "metadata": {}
  }
 ],
 "metadata": {
  "orig_nbformat": 4,
  "language_info": {
   "name": "python",
   "version": "3.8.8",
   "mimetype": "text/x-python",
   "codemirror_mode": {
    "name": "ipython",
    "version": 3
   },
   "pygments_lexer": "ipython3",
   "nbconvert_exporter": "python",
   "file_extension": ".py"
  },
  "kernelspec": {
   "name": "python3",
   "display_name": "Python 3.8.8 64-bit"
  },
  "interpreter": {
   "hash": "788c7a583b49e0f108948e9844ef083ea97a54690da4d8e91da56fd70fa16a57"
  }
 },
 "nbformat": 4,
 "nbformat_minor": 2
}