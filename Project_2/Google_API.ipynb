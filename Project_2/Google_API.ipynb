{
 "cells": [
  {
   "cell_type": "code",
   "execution_count": null,
   "metadata": {},
   "outputs": [],
   "source": [
    "from google.cloud import language_v1\n",
    "from google.cloud.language_v1 import enums"
   ]
  },
  {
   "cell_type": "code",
   "execution_count": null,
   "metadata": {},
   "outputs": [],
   "source": [
    "file = open(\"Google_API_test.txt\",\"r+\")\n",
    "text = file.readline()"
   ]
  },
  {
   "cell_type": "code",
   "execution_count": null,
   "metadata": {},
   "outputs": [],
   "source": [
    "client = language_v1.LanguageServiceClient()\n",
    "type_ = enums.Document.Type.PLAIN_TEXT\n",
    "document = {\"content\": text, \"type\": type_}  #automately detact language\n",
    "\n",
    "encoding_type = enums.EncodingType.UTF16\n",
    "response = client.analyze_sentiment(document, encoding_type=encoding_type)\n",
    "\n",
    "# Get sentiment of  sentences \n",
    "for sentence in response.sentences:\n",
    "    print(u\"Sentence text: {}\".format(sentence.text.content))\n",
    "    print(u\"Sentence sentiment score: {}\".format(sentence.sentiment.score))\n",
    "    print(u\"Sentence sentiment magnitude: {}\".format(sentence.sentiment.magnitude))\n",
    "    \n",
    "# Get sentiment of the document\n",
    "print(u\"Document sentiment score: {}\".format(response.document_sentiment.score))\n",
    "print(u\"magnitude: {}\".format(response.document_sentiment.magnitude))\n",
    "\n",
    "#Get language of text\n",
    "print(u\"Language: {}\".format(response.language))\n"
   ]
  }
 ],
 "metadata": {
  "interpreter": {
   "hash": "788c7a583b49e0f108948e9844ef083ea97a54690da4d8e91da56fd70fa16a57"
  },
  "kernelspec": {
   "display_name": "Python 3.8.8 64-bit",
   "name": "python3"
  },
  "language_info": {
   "codemirror_mode": {
    "name": "ipython",
    "version": 3
   },
   "file_extension": ".py",
   "mimetype": "text/x-python",
   "name": "python",
   "nbconvert_exporter": "python",
   "pygments_lexer": "ipython3",
   "version": "3.8.8"
  },
  "orig_nbformat": 4
 },
 "nbformat": 4,
 "nbformat_minor": 2
}
