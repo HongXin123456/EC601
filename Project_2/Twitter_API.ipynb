{
 "cells": [
  {
   "cell_type": "code",
   "execution_count": 121,
   "source": [
    "import tweepy\r\n",
    "from tweepy import OAuthHandler\r\n",
    "from tweepy import API\r\n",
    "from tweepy import Stream\r\n",
    "import json\r\n",
    "import os\r\n",
    "import sys\r\n",
    "from geopy.geocoders import Nominatim\r\n",
    "from TwitterAPI import TwitterAPI\r\n",
    "\r\n",
    "access_key=\"\"\r\n",
    "access_secret=\"\"\r\n",
    "consumer_key=\"\"\r\n",
    "consumer_secret=\"\"\r\n",
    "\r\n",
    "auth= tweepy.OAuthHandler(consumer_key,consumer_secret)\r\n",
    "auth.set_access_token(access_key, access_secret)\r\n",
    "api = tweepy.API(auth, wait_on_rate_limit=True)"
   ],
   "outputs": [],
   "metadata": {}
  },
  {
   "cell_type": "code",
   "execution_count": 125,
   "source": [
    "####(1) get the timeline of a user###\r\n",
    "\r\n",
    "# screen name of the account to be fetched\r\n",
    "screen_name = \"JessicaXinH\"\r\n",
    "  \r\n",
    "# fetching the statuses\r\n",
    "statuses = api.user_timeline(screen_name)\r\n",
    "\r\n",
    "#export results to a txt file\r\n",
    "print(screen_name + \": \" + str(len(statuses)) + \" number of statuses have been fetched.\")\r\n",
    "lines = [screen_name + 'Timeline', str(statuses)]\r\n",
    "with open(screen_name+'_Timeline.txt', 'w') as f:\r\n",
    "    for line in lines:\r\n",
    "        f.write(line)\r\n",
    "        f.write('\\n')\r\n",
    "print(screen_name+'_Timeline.txt')\r\n",
    "\r\n",
    "print(\"Print 20 most recent statuses\")\r\n",
    "count = 0\r\n",
    "for status in statuses:\r\n",
    "    count = count + 1\r\n",
    "    print(str(count) + status.text, end = \"\\n\")"
   ],
   "outputs": [
    {
     "output_type": "stream",
     "name": "stdout",
     "text": [
      "JessicaXinH: 18 number of statuses have been fetched.\n",
      "JessicaXinH_Timeline.txt\n",
      "Print 20 most recent statuses\n",
      "1@HTSPedicini is the data going to be used and effect anything?\n",
      "2@HTSPedicini Gatsby loved Daisy. Daisy loved Tom more than Gatsby.\n",
      "3@HTSPedicini by the way, what does mean by \"concluding points to make\"? Should I restate the whole topics? Connect them?\n",
      "4@HTSPedicini  ok\n",
      "5@HTSPedicini ok, got it, can I share to you, after I finish?\n",
      "6@HTSPedicini ok, but, the assignment paper for the outline shows, it should be includes at least 4 topics. It confused me.\n",
      "7@HTSPedicini how many Topic of Research do we need to include? But, we have to include at least 5 resources?\n",
      "8@HTSPedicini why did Gatsby still in love with her, after this long time?\n",
      "9@HTSPedicini insight: the pretty thing always has bad end. The pretties your are, the worse you have.\n",
      "10@HTSPedicini I would act very surprise to see hat and treats her politely, but inside of my heart is going to be extremely nervous.\n",
      "11@HTSPedicini I think it is more than that.Gatsby gave Tom a chance to earn money.Tom refused him.He did not want to get benefit,he just help\n",
      "12@HTSPedicini Gatsby still love the person, tom's wife(forget how to spell her name)who lived across river.\n",
      "13@HTSPedicini I thought it was something about why author mention village at the book, I am not really remember the question.\n",
      "14@HTSPedicini Gatsby killed people during the war; he has been in to oxford college; that is all I think is true.\n",
      "15@HTSPedicini because it can show more detail to readers, and kind of like putting more realistic suction in to the book.\n",
      "16@HTSPedicini I feel like, at that time, people focused more on money and fame. Surfaced was more important than inside.\n",
      "17@HTSPedicini @HTEAStacey maybe. But i do not think he is going t I be as famous as the past time. And people will not really care about that\n",
      "18@HTSPedicini because this book is about this person. It really depends on what had he done, during his time. For example, a big adventure\n"
     ]
    }
   ],
   "metadata": {}
  },
  {
   "cell_type": "code",
   "execution_count": 74,
   "source": [
    "###(2)Get trending tweets of all countries###\r\n",
    "\r\n",
    "trend = api.trends_available()\r\n",
    "# writing a JSON file that has the available trends around the world\r\n",
    "with open(\"Trend.json\",\"w\") as wp:\r\n",
    "    wp.write(json.dumps(trend, indent=1))\r\n",
    "\r\n",
    "  \r\n",
    "print(\"Top 10 locations are : \")\r\n",
    "for i in range(0, 11):\r\n",
    "    print( str(i) + \": \" + trend[i]['country'] + \", \" + trend[i]['name'])"
   ],
   "outputs": [
    {
     "output_type": "stream",
     "name": "stdout",
     "text": [
      "Top 10 locations are : \n",
      "0: , Worldwide\n",
      "1: Canada, Winnipeg\n",
      "2: Canada, Ottawa\n",
      "3: Canada, Quebec\n",
      "4: Canada, Montreal\n",
      "5: Canada, Toronto\n",
      "6: Canada, Edmonton\n",
      "7: Canada, Calgary\n",
      "8: Canada, Vancouver\n",
      "9: United Kingdom, Birmingham\n",
      "10: United Kingdom, Blackpool\n"
     ]
    }
   ],
   "metadata": {}
  },
  {
   "cell_type": "code",
   "execution_count": 96,
   "source": [
    "###(3)Get trending tweets of a city###\r\n",
    "address='Boston'\r\n",
    "geolocator = Nominatim(user_agent=\"Your_Name\")\r\n",
    "location = geolocator.geocode(address)\r\n",
    "print(location.address)\r\n",
    "print((location.latitude, location.longitude))\r\n",
    "closest_loc = api.trends_closest(location.latitude, location.longitude)\r\n",
    "trend = api.trends_place(closest_loc[0]['woeid'])\r\n",
    "\r\n",
    "# writing a JSON file that has the latest trends for that city\r\n",
    "with open(address + \"_twitter_trend.json\",\"w\") as wp:\r\n",
    "    wp.write(json.dumps(trend, indent=1))\r\n"
   ],
   "outputs": [
    {
     "output_type": "stream",
     "name": "stdout",
     "text": [
      "Boston, Suffolk County, Massachusetts, United States\n",
      "(42.3602534, -71.0582912)\n"
     ]
    }
   ],
   "metadata": {}
  },
  {
   "cell_type": "code",
   "execution_count": 131,
   "source": [
    "###(4)count number of hashtags###\r\n",
    "count = 0\r\n",
    "skip = 0\r\n",
    "\r\n",
    "api = TwitterAPI(consumer_key, consumer_secret, access_key, access_secret)\r\n",
    "r = api.request('statuses/filter', {'track':'apple'})\r\n",
    "for item in r:\r\n",
    "    if 'text' in item:\r\n",
    "        count += 1\r\n",
    "    elif 'limit' in item:\r\n",
    "        skip = item['limit'].get('track')\r\n",
    "    elif 'disconnect' in item:\r\n",
    "        break\r\n",
    "    print(item)\r\n",
    "    if count == 1:\r\n",
    "        break"
   ],
   "outputs": [
    {
     "output_type": "stream",
     "name": "stdout",
     "text": [
      "{'created_at': 'Mon Sep 27 01:38:54 +0000 2021', 'id': 1442302697172914178, 'id_str': '1442302697172914178', 'text': 'RT @BTSChartDailyx: 🇺🇸 US Apple Music  \\n\\n#92. Coldplay x BTS — My Universe (+1)\\nhttps://t.co/X675acTPvQ', 'source': '<a href=\"http://twitter.com/download/iphone\" rel=\"nofollow\">Twitter for iPhone</a>', 'truncated': False, 'in_reply_to_status_id': None, 'in_reply_to_status_id_str': None, 'in_reply_to_user_id': None, 'in_reply_to_user_id_str': None, 'in_reply_to_screen_name': None, 'user': {'id': 1203387619612086272, 'id_str': '1203387619612086272', 'name': 'ᴮᴱEternally⁷ ᴾᵀᴰ', 'screen_name': 'imissyouBTS', 'location': None, 'url': None, 'description': '~ 💜Loves BTS & Proud BTSARMY💜~ Undeniably OT7💜~ Grammy nominated artists’s fan 💜~ |toxic shippers❌,solos❌,mantis❌|', 'translator_type': 'none', 'protected': False, 'verified': False, 'followers_count': 122, 'friends_count': 268, 'listed_count': 0, 'favourites_count': 28056, 'statuses_count': 34456, 'created_at': 'Sat Dec 07 18:55:49 +0000 2019', 'utc_offset': None, 'time_zone': None, 'geo_enabled': False, 'lang': None, 'contributors_enabled': False, 'is_translator': False, 'profile_background_color': 'F5F8FA', 'profile_background_image_url': '', 'profile_background_image_url_https': '', 'profile_background_tile': False, 'profile_link_color': '1DA1F2', 'profile_sidebar_border_color': 'C0DEED', 'profile_sidebar_fill_color': 'DDEEF6', 'profile_text_color': '333333', 'profile_use_background_image': True, 'profile_image_url': 'http://pbs.twimg.com/profile_images/1442133320255475723/7ZEIMtL9_normal.jpg', 'profile_image_url_https': 'https://pbs.twimg.com/profile_images/1442133320255475723/7ZEIMtL9_normal.jpg', 'profile_banner_url': 'https://pbs.twimg.com/profile_banners/1203387619612086272/1632408445', 'default_profile': True, 'default_profile_image': False, 'following': None, 'follow_request_sent': None, 'notifications': None, 'withheld_in_countries': []}, 'geo': None, 'coordinates': None, 'place': None, 'contributors': None, 'retweeted_status': {'created_at': 'Mon Sep 27 01:13:55 +0000 2021', 'id': 1442296409479434246, 'id_str': '1442296409479434246', 'text': '🇺🇸 US Apple Music  \\n\\n#92. Coldplay x BTS — My Universe (+1)\\nhttps://t.co/X675acTPvQ', 'source': '<a href=\"http://twitter.com/download/android\" rel=\"nofollow\">Twitter for Android</a>', 'truncated': False, 'in_reply_to_status_id': None, 'in_reply_to_status_id_str': None, 'in_reply_to_user_id': None, 'in_reply_to_user_id_str': None, 'in_reply_to_screen_name': None, 'user': {'id': 973338313661861889, 'id_str': '973338313661861889', 'name': 'BTSChartDaily⁷🐙💜', 'screen_name': 'BTSChartDailyx', 'location': '🔔 Turn the notifications', 'url': 'https://bts.lnk.to/ptd', 'description': 'Fan account /Charts/News ✨@BTS_twt', 'translator_type': 'none', 'protected': False, 'verified': False, 'followers_count': 434814, 'friends_count': 37, 'listed_count': 3078, 'favourites_count': 2441, 'statuses_count': 17921, 'created_at': 'Mon Mar 12 23:21:52 +0000 2018', 'utc_offset': None, 'time_zone': None, 'geo_enabled': True, 'lang': None, 'contributors_enabled': False, 'is_translator': False, 'profile_background_color': 'F5F8FA', 'profile_background_image_url': '', 'profile_background_image_url_https': '', 'profile_background_tile': False, 'profile_link_color': '1DA1F2', 'profile_sidebar_border_color': 'C0DEED', 'profile_sidebar_fill_color': 'DDEEF6', 'profile_text_color': '333333', 'profile_use_background_image': True, 'profile_image_url': 'http://pbs.twimg.com/profile_images/1437427947728744449/v66YY75s_normal.jpg', 'profile_image_url_https': 'https://pbs.twimg.com/profile_images/1437427947728744449/v66YY75s_normal.jpg', 'profile_banner_url': 'https://pbs.twimg.com/profile_banners/973338313661861889/1631544462', 'default_profile': True, 'default_profile_image': False, 'following': None, 'follow_request_sent': None, 'notifications': None, 'withheld_in_countries': []}, 'geo': None, 'coordinates': None, 'place': None, 'contributors': None, 'is_quote_status': False, 'quote_count': 14, 'reply_count': 6, 'retweet_count': 371, 'favorite_count': 867, 'entities': {'hashtags': [], 'urls': [{'url': 'https://t.co/X675acTPvQ', 'expanded_url': 'https://music.apple.com/gb/album/my-universe/1586356904?i=1586356916', 'display_url': 'music.apple.com/gb/album/my-un…', 'indices': [60, 83]}], 'user_mentions': [], 'symbols': []}, 'favorited': False, 'retweeted': False, 'possibly_sensitive': False, 'filter_level': 'low', 'lang': 'en'}, 'is_quote_status': False, 'quote_count': 0, 'reply_count': 0, 'retweet_count': 0, 'favorite_count': 0, 'entities': {'hashtags': [], 'urls': [{'url': 'https://t.co/X675acTPvQ', 'expanded_url': 'https://music.apple.com/gb/album/my-universe/1586356904?i=1586356916', 'display_url': 'music.apple.com/gb/album/my-un…', 'indices': [80, 103]}], 'user_mentions': [{'screen_name': 'BTSChartDailyx', 'name': 'BTSChartDaily⁷🐙💜', 'id': 973338313661861889, 'id_str': '973338313661861889', 'indices': [3, 18]}], 'symbols': []}, 'favorited': False, 'retweeted': False, 'possibly_sensitive': False, 'filter_level': 'low', 'lang': 'en', 'timestamp_ms': '1632706734351'}\n"
     ]
    }
   ],
   "metadata": {}
  }
 ],
 "metadata": {
  "orig_nbformat": 4,
  "language_info": {
   "name": "python",
   "version": "3.8.8",
   "mimetype": "text/x-python",
   "codemirror_mode": {
    "name": "ipython",
    "version": 3
   },
   "pygments_lexer": "ipython3",
   "nbconvert_exporter": "python",
   "file_extension": ".py"
  },
  "kernelspec": {
   "name": "python3",
   "display_name": "Python 3.8.8 64-bit"
  },
  "interpreter": {
   "hash": "788c7a583b49e0f108948e9844ef083ea97a54690da4d8e91da56fd70fa16a57"
  }
 },
 "nbformat": 4,
 "nbformat_minor": 2
}