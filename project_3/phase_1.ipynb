{
 "cells": [
  {
   "cell_type": "code",
   "execution_count": 36,
   "metadata": {},
   "outputs": [],
   "source": [
    "import tweepy\n",
    "from tweepy import OAuthHandler\n",
    "from tweepy import API\n",
    "from tweepy import Stream\n",
    "import json\n",
    "import os\n",
    "import sys\n",
    "from geopy.geocoders import Nominatim\n",
    "from TwitterAPI import TwitterAPI\n",
    "import webbrowser\n",
    "import time\n",
    "import pandas as pd\n",
    "import timeit\n",
    "import numpy as np\n",
    "import argparse\n",
    "from google.cloud import language_v1\n",
    "from google.cloud.language_v1 import enums\n",
    "import tweepy\n",
    "import matplotlib.pyplot as plt\n",
    "import pytest"
   ]
  },
  {
   "cell_type": "code",
   "execution_count": 3,
   "metadata": {},
   "outputs": [],
   "source": [
    "access_key=\n",
    "access_secret=\n",
    "consumer_key=\n",
    "consumer_secret=\n",
    "\n",
    "auth= tweepy.OAuthHandler(consumer_key,consumer_secret)\n",
    "auth.set_access_token(access_key, access_secret)\n",
    "api = tweepy.API(auth, wait_on_rate_limit=True)"
   ]
  },
  {
   "cell_type": "code",
   "execution_count": 4,
   "metadata": {},
   "outputs": [
    {
     "name": "stdout",
     "output_type": "stream",
     "text": [
      "input_access_key--Fail\n",
      "input_access_secret--Fail\n",
      "input_consumer_key--Fail\n",
      "input_consumer_secret--Fail\n"
     ]
    }
   ],
   "source": [
    "#input test: Validate user input for key and secret\n",
    "input_access_key=input(\"access_key\")\n",
    "if input_access_key==access_key:\n",
    "    print(\"input_access_key--Pass\")\n",
    "else:\n",
    "    print(\"input_access_key--Fail\")\n",
    "\n",
    "\n",
    "input_access_secret=input(\"access_secret\")\n",
    "if input_access_secret==access_secret:\n",
    "    print(\"input_access_secret--Pass\")\n",
    "else:\n",
    "    print(\"input_access_secret--Fail\")\n",
    "\n",
    "\n",
    "input_consumer_key=input(\"consumer_key\")\n",
    "if input_consumer_key==consumer_key:\n",
    "    print(\"input_consumer_key--Pass\")\n",
    "else:\n",
    "    print(\"input_consumer_key--Fail\")\n",
    "\n",
    "\n",
    "input_consumer_secret=input(\"consumer_secret\")\n",
    "if input_consumer_secret==consumer_secret:\n",
    "    print(\"input_consumer_secret--Pass\")\n",
    "else:\n",
    "    print(\"input_consumer_secret--Fail\")\n"
   ]
  },
  {
   "cell_type": "code",
   "execution_count": 74,
   "metadata": {},
   "outputs": [
    {
     "name": "stdout",
     "output_type": "stream",
     "text": [
      "screen_name---Pass\n",
      "JessicaXinH: 18 number of statuses have been fetched.\n",
      "JessicaXinH_Timeline.txt\n",
      "Print 5 most recent statuses:\n",
      "1@HTSPedicini is the data going to be used and effect anything?\n",
      "2@HTSPedicini Gatsby loved Daisy. Daisy loved Tom more than Gatsby.\n",
      "3@HTSPedicini by the way, what does mean by \"concluding points to make\"? Should I restate the whole topics? Connect them?\n",
      "4@HTSPedicini  ok\n",
      "5@HTSPedicini ok, got it, can I share to you, after I finish?\n",
      "Run Time for retriving tweets:  0.2685173999998369\n"
     ]
    }
   ],
   "source": [
    "#measure run time\n",
    "start = timeit.default_timer()\n",
    "\n",
    "# screen name of the account to be fetched\n",
    "screen_name = \"JessicaXinH\"\n",
    "\n",
    "#unit test: input count is less than 20\n",
    "def test_function():\n",
    "    #number of tweets to retrive\n",
    "    count = 20\n",
    "    assert count <= 20\n",
    "    return count\n",
    "count = test_function()\n",
    "#print(count)\n",
    "\n",
    "# input test: test to see if the input screen_name exists\n",
    "result = None\n",
    "while result is None:\n",
    "    try:\n",
    "        # fetching the statuses\n",
    "        statuses = api.user_timeline(screen_name = screen_name, count = count)\n",
    "        print(\"screen_name---Pass\")\n",
    "        break\n",
    "    except:\n",
    "        # output a warning message if screen_name does not exist\n",
    "        print(\"Warning: This screen_name does not exist. Try a different screen_name\")\n",
    "        break\n",
    "    \n",
    "\n",
    "#export results to a txt file\n",
    "print(screen_name + \": \" + str(len(statuses)) + \" number of statuses have been fetched.\")\n",
    "\n",
    "#unit test\n",
    "def num_of_tweets(integer):\n",
    "    return integer\n",
    "def test_int_num():\n",
    "    assert int(num_of_tweets(count)) == True\n",
    "    print(\"==============\")\n",
    "test = test_int_num\n",
    "test\n",
    "\n",
    "lines = [screen_name + 'Timeline', str(statuses)]\n",
    "with open(screen_name+'_Timeline.txt', 'w') as f:\n",
    "    for line in lines:\n",
    "        f.write(line)\n",
    "        f.write('\\n')\n",
    "print(screen_name+'_Timeline.txt')\n",
    "\n",
    "print(\"Print 5 most recent statuses:\")\n",
    "count = 0\n",
    "for status in statuses:\n",
    "    count = count + 1\n",
    "    print(str(count) + status.text, end = \"\\n\")\n",
    "    if count == 5:\n",
    "        break\n",
    "\n",
    "#measure run time\n",
    "stop = timeit.default_timer()\n",
    "print('Run Time for retriving tweets: ', stop - start) "
   ]
  },
  {
   "cell_type": "code",
   "execution_count": 15,
   "metadata": {},
   "outputs": [],
   "source": [
    "file = open(screen_name+'_Timeline.txt',\"r+\")\n",
    "text= file.readline()"
   ]
  },
  {
   "cell_type": "code",
   "execution_count": null,
   "metadata": {},
   "outputs": [],
   "source": [
    "#measure run time\n",
    "start = timeit.default_timer()\n",
    "\n",
    "posts = api.user_timeline(screen_name = screen_name, count = count, lang = \"en\", tweet_mode = \"extended\", include_rts = True, exclude_replies = True )\n",
    "df = pd.DataFrame([tweet.full_text for tweet in posts], columns = ['Tweets'])\n",
    "client = language_v1.LanguageServiceClient()\n",
    "type_ = enums.Document.Type.PLAIN_TEXT\n",
    "language = \"en\"\n",
    "document = {\"content\": text, \"type\": type_, \"language\": language}\n",
    "\n",
    "encoding_tpye = enums.EncodingType.UTF8\n",
    "\n",
    "response = client.analyze_sentiment(document, encoding_type=encoding_type)\n",
    "\n",
    "#Get sentiment of sentence\n",
    "for sentence in response.sentences:\n",
    "    print(u\"Sentence text: {}\".format(sentence.text.content))\n",
    "    print(u\"Sentence sentiment score: {}\".format(sentence.sentiment.score))\n",
    "    print(u\"Sentence sentiment magnitude: {}\".format(sentence.sentiment.magnitude))\n",
    "    df.at[sentence,'Sentence_score'] = response.document_sentiment.score\n",
    "    df.at[sentence,'Sentence_magnitude'] = response.document_sentiment.magnitude\n",
    "#get sentiment of the document\n",
    "print(u\"Document sentiment score: {}\".format(response.document_sentiment.score))\n",
    "print(u\"magnitude: {}\".format(response.document_sentiment.magnitude))\n",
    "\n",
    "#measure run time\n",
    "stop = timeit.default_timer()\n",
    "print('Run Time for sentiment analysis: ', stop - start) \n"
   ]
  },
  {
   "cell_type": "code",
   "execution_count": null,
   "metadata": {},
   "outputs": [],
   "source": [
    "#plot the graph for sentiment analysis\n",
    "plt.figure(figsize=(6,6))\n",
    "for i in range(0,df.shape[0]):\n",
    "    plt.scatter(df.at[i, 'Sentence_score'], df.at[i, 'Sentence_magnitude'])\n",
    "plt.title(screen_name+'_Sentiment_Analysis')\n",
    "plt.xlabel('Sentence_score')\n",
    "plt.ylabel('Sentence_magnitude')\n",
    "plt.show()\n",
    "plt.close()"
   ]
  }
 ],
 "metadata": {
  "interpreter": {
   "hash": "788c7a583b49e0f108948e9844ef083ea97a54690da4d8e91da56fd70fa16a57"
  },
  "kernelspec": {
   "display_name": "Python 3.8.8 64-bit",
   "name": "python3"
  },
  "language_info": {
   "codemirror_mode": {
    "name": "ipython",
    "version": 3
   },
   "file_extension": ".py",
   "mimetype": "text/x-python",
   "name": "python",
   "nbconvert_exporter": "python",
   "pygments_lexer": "ipython3",
   "version": "3.8.8"
  },
  "orig_nbformat": 4
 },
 "nbformat": 4,
 "nbformat_minor": 2
}
